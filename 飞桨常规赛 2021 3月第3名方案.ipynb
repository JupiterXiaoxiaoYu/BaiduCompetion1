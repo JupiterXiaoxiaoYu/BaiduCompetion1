{
 "cells": [
  {
   "cell_type": "code",
   "execution_count": 3,
   "metadata": {
    "collapsed": false
   },
   "outputs": [],
   "source": [
    "#最高版本 \n",
    "\"\"\"\n",
    "未设置checkpoint\n",
    "\"\"\"\n",
    "\n",
    "\"\"\"\n",
    "1.改进：f\n",
    "2.category中unique较多元素设置为0,然后label的时候方便判断\n",
    "3.检查feature前的特征值，做清洗。\n",
    "\"\"\"\n",
    "\n",
    "\"\"\"\n",
    "此模型利用了xgboost进行分类，详细调优过程请参看代码和注释。\n",
    "\"\"\"\n",
    "\n",
    "#读取数据集\n",
    "import pandas as pd\n",
    "train= pd.read_csv('./train.csv',encoding='utf-8')\n",
    "test = pd.read_csv('./test1.csv',encoding='utf-8')\n",
    "features = train.drop(['Unnamed: 0','label'],axis=1)\n",
    "labels = train['label']\n"
   ]
  },
  {
   "cell_type": "code",
   "execution_count": 4,
   "metadata": {
    "collapsed": false
   },
   "outputs": [],
   "source": [
    "\n",
    "#fea1_hash和fea_hash有不同长度，可能代表着用户行为的多少，此处用fea1_hash的长度构建新特征，模型准确度有一定提高（后期可根据不同的数字序列尝试再分类）\n",
    "features['fea1_hash4']=features['fea1_hash'].map(lambda x:len(str(x)))\n",
    "train['fea1_hash4']=test['fea1_hash'].map(lambda x:len(str(x)))    \n",
    "test['fea1_hash4']=test['fea1_hash'].map(lambda x:len(str(x)))\n",
    "\n",
    "#新特征函数，利用数量特征构造。\n",
    "def de(x):\n",
    "    result = pd.value_counts(x)\n",
    "    x= [999999999 if result[each]==1  else each for each in x]\n",
    "    return x\n",
    "\n",
    "def ded(x):\n",
    "    result = pd.value_counts(x)\n",
    "    x= [result[each] for each in x]\n",
    "    return x\n",
    "\n",
    "#合并测试集和训练集\n",
    "all_df = pd.concat([train,test])\n",
    "\n",
    "#利用数量特征构造新特征--采用唯一值较多的特征，因为有重复id或重复行为点击广告表明很可能不是真人。\n",
    "all_df.android_id=de(all_df.android_id)\n",
    "all_df.fea_hash=de(all_df.fea_hash)\n",
    "all_df.fea1_hash=de(all_df.fea1_hash)\n",
    "\n",
    "features.android_id = all_df[all_df['label'].notnull()]['android_id']\n",
    "features.fea_hash = all_df[all_df['label'].notnull()]['fea_hash']\n",
    "features.fea1_hash = all_df[all_df['label'].notnull()]['fea1_hash']\n",
    "\n",
    "test.android_id = all_df[all_df['label'].isnull()]['android_id']\n",
    "test.fea_hash = all_df[all_df['label'].isnull()]['fea_hash']\n",
    "test.fea1_hash = all_df[all_df['label'].isnull()]['fea1_hash']\n",
    "\n",
    "train.android_id = all_df[all_df['label'].notnull()]['android_id']\n",
    "train.fea_hash = all_df[all_df['label'].notnull()]['fea_hash']\n",
    "train.fea1_hash = all_df[all_df['label'].notnull()]['fea1_hash']\n",
    "\n",
    "#尝试出构造数量特征后有提升的原有特征\n",
    "s = ['dev_height','dev_width','media_id','package','apptype','android_id','fea1_hash']\n",
    "\n",
    "for f in s:\n",
    "    all_df[f]=ded(all_df[f])\n",
    "    train[f+'2'] = all_df[all_df['label'].notnull()][f]\n",
    "    test[f+'2'] = all_df[all_df['label'].isnull()][f]\n",
    "    features[f+'2'] = all_df[all_df['label'].notnull()][f]\n"
   ]
  },
  {
   "cell_type": "code",
   "execution_count": 5,
   "metadata": {
    "collapsed": false
   },
   "outputs": [],
   "source": [
    "#数据清洗osv\n",
    "def f(x):\n",
    "    if str(x) == 'nan':\n",
    "        return x\n",
    "    else:x = str(x)\n",
    "    y = x\n",
    "    r = '';\n",
    "    for i in range(len(x)):\n",
    "        if x[i].isdigit():\n",
    "            r +=x[i]\n",
    "    if r == '':\n",
    "        return 0\n",
    "    else:\n",
    "        while(r[0]=='0'):\n",
    "            r=r[1:]\n",
    "    k = int((str(r)+'000')[:5])\n",
    "    while(k>12):\n",
    "        k=k/10\n",
    "    return float(k)\n",
    "    \n",
    "train['osv'] = train['osv'].apply(f)\n",
    "features['osv'] = features['osv'].apply(f)\n",
    "test['osv'] = test['osv'].apply(f)\n",
    "\n",
    "\n",
    "#类别特征，后期统一labelencoder\n",
    "cate_features = ['apptype','carrier','ntt','location','cus_type','media_id',\n",
    "'dev_width','dev_height','android_id','fea1_hash']\n",
    "\n",
    "pd.set_option('display.max_rows',100)"
   ]
  },
  {
   "cell_type": "code",
   "execution_count": 6,
   "metadata": {
    "collapsed": false
   },
   "outputs": [],
   "source": [
    "from datetime import datetime as dt \n",
    "\"\"\"\n",
    "个人处理日期的想法：按照kmeans，但是是一维，可以直接sort聚类\n",
    "\"\"\"\n",
    "#处理日期，得到基于小时数的timediff\n",
    "def get_date(features):\n",
    "    features['timestamp'] = features['timestamp'].apply(lambda x: dt.fromtimestamp(x/1000))\n",
    "    start_time = features['timestamp'].min()\n",
    "    features['time_diff'] = features['timestamp'] - start_time\n",
    "    features['time_diff'] = features['time_diff'].dt.days*24 + features['time_diff'].dt.seconds/3600\n",
    "    features.drop(['timestamp'],axis=1,inplace = True)\n",
    "    return features\n",
    "\n",
    "features = get_date(features)\n",
    "test = get_date(test)\n",
    "train = get_date(train)\n",
    "\n",
    "mini = features['time_diff'].min()\n",
    "\n",
    "#尝试出不同的聚类距离，13时提升效果最大\n",
    "def ts(x):\n",
    "    return (x - mini)//13\n",
    "\n",
    "features['time_diff'] = features['time_diff'].apply(ts)\n",
    "train['time_diff'] = train['time_diff'].apply(ts)\n",
    "test['time_diff'] = test['time_diff'].apply(ts)\n",
    "\n",
    "cate_features.append('time_diff')"
   ]
  },
  {
   "cell_type": "code",
   "execution_count": 7,
   "metadata": {
    "collapsed": false
   },
   "outputs": [],
   "source": [
    "#去掉过长的特征（极大值）\n",
    "features['fea_hash']=features['fea_hash'].map(lambda x:0 if len(str(x))>16 else int(x))\n",
    "features['fea1_hash']=features['fea1_hash'].map(lambda x:0 if len(str(x))>16 else int(x))\n",
    "test['fea_hash']=test['fea_hash'].map(lambda x:0 if len(str(x))>16 else int(x))\n",
    "test['fea1_hash']=test['fea1_hash'].map(lambda x:0 if len(str(x))>16 else int(x))\n",
    "train['fea_hash']=test['fea_hash'].map(lambda x:0 if len(str(x))>16 else int(x))\n",
    "train['fea1_hash']=test['fea1_hash'].map(lambda x:0 if len(str(x))>16 else int(x))\n",
    "\n",
    "from sklearn.preprocessing import LabelEncoder\n",
    "le = LabelEncoder()\n",
    "\n",
    "#特征清洗lan\n",
    "def low(row):\n",
    "    return row.lower().replace('-',\"\").replace('_',\"\")\n",
    "\n",
    "#将训练集和测试集合并\n",
    "all_df = pd.concat([train,test])\n",
    "all_df['lan']= all_df['lan'].astype('str').apply(low)\n",
    "all_df['lan'] = le.fit_transform(all_df['lan'])\n",
    "all_df['fea_hash']= all_df['fea_hash'].astype('str')\n",
    "all_df['fea_hash'] = le.fit_transform(all_df['fea_hash'])\n",
    "\n"
   ]
  },
  {
   "cell_type": "code",
   "execution_count": 8,
   "metadata": {
    "collapsed": false
   },
   "outputs": [],
   "source": [
    "#移除不必要的特征\n",
    "nonuse = ['os','sid']\n",
    "col = features.columns.tolist()\n",
    "for i in nonuse:\n",
    "    col.remove(i)\n",
    "features = features[col]"
   ]
  },
  {
   "cell_type": "code",
   "execution_count": 9,
   "metadata": {
    "collapsed": false
   },
   "outputs": [
    {
     "name": "stderr",
     "output_type": "stream",
     "text": [
      "/opt/conda/envs/python35-paddle120-env/lib/python3.7/site-packages/ipykernel_launcher.py:32: SettingWithCopyWarning: \n",
      "A value is trying to be set on a copy of a slice from a DataFrame.\n",
      "Try using .loc[row_indexer,col_indexer] = value instead\n",
      "\n",
      "See the caveats in the documentation: https://pandas.pydata.org/pandas-docs/stable/user_guide/indexing.html#returning-a-view-versus-a-copy\n",
      "/opt/conda/envs/python35-paddle120-env/lib/python3.7/site-packages/ipykernel_launcher.py:33: SettingWithCopyWarning: \n",
      "A value is trying to be set on a copy of a slice from a DataFrame.\n",
      "Try using .loc[row_indexer,col_indexer] = value instead\n",
      "\n",
      "See the caveats in the documentation: https://pandas.pydata.org/pandas-docs/stable/user_guide/indexing.html#returning-a-view-versus-a-copy\n",
      "/opt/conda/envs/python35-paddle120-env/lib/python3.7/site-packages/ipykernel_launcher.py:34: SettingWithCopyWarning: \n",
      "A value is trying to be set on a copy of a slice from a DataFrame.\n",
      "Try using .loc[row_indexer,col_indexer] = value instead\n",
      "\n",
      "See the caveats in the documentation: https://pandas.pydata.org/pandas-docs/stable/user_guide/indexing.html#returning-a-view-versus-a-copy\n",
      "/opt/conda/envs/python35-paddle120-env/lib/python3.7/site-packages/ipykernel_launcher.py:37: SettingWithCopyWarning: \n",
      "A value is trying to be set on a copy of a slice from a DataFrame.\n",
      "Try using .loc[row_indexer,col_indexer] = value instead\n",
      "\n",
      "See the caveats in the documentation: https://pandas.pydata.org/pandas-docs/stable/user_guide/indexing.html#returning-a-view-versus-a-copy\n"
     ]
    }
   ],
   "source": [
    "#特征清洗version\n",
    "def rep(x):\n",
    "    if str(x).isdigit():return int(x)\n",
    "    elif str(x)[0] == \"v\" or \"V\":\n",
    "        if str(x)[1:].isdigit():\n",
    "            return int(str(x)[1:])\n",
    "    else:return 0\n",
    "    \n",
    "features['version'] = features['version'].apply(rep)\n",
    "all_df['version'] = all_df['version'].apply(rep)\n",
    "train['version'] = train['version'].apply(rep)\n",
    "\n",
    "#统一labelencoder\n",
    "for fea in cate_features:\n",
    "    all_df[fea]= all_df[fea].astype('float')\n",
    "    all_df[fea] = le.fit_transform(all_df[fea])\n",
    "    \n",
    "features['lan'] = all_df[all_df['label'].notnull()]['lan']\n",
    "features['fea_hash'] = all_df[all_df['label'].notnull()]['fea_hash']\n",
    "\n",
    "train['lan'] = all_df[all_df['label'].notnull()]['lan']\n",
    "train['fea_hash'] = all_df[all_df['label'].notnull()]['fea_hash']\n",
    "\n",
    "for fea in cate_features:\n",
    "    features[fea] = all_df[all_df['label'].notnull()][fea]\n",
    "    train[fea] = all_df[all_df['label'].notnull()][fea]\n",
    "\n",
    "test_fea = test[features.columns]\n",
    "\n",
    "test_fea['lan'] = all_df[all_df['label'].isnull()]['lan']\n",
    "test_fea['fea_hash'] = all_df[all_df['label'].isnull()]['fea_hash']\n",
    "test_fea['version'] = test_fea['version'].apply(rep)\n",
    "\n",
    "for fea in cate_features:\n",
    "    test_fea[fea] = all_df[all_df['label'].isnull()][fea]\n",
    "\n",
    "cate_features.append('lan')\n",
    "features['version']=features['version'].astype(float)\n",
    "\n"
   ]
  },
  {
   "cell_type": "code",
   "execution_count": 10,
   "metadata": {
    "collapsed": false
   },
   "outputs": [
    {
     "name": "stderr",
     "output_type": "stream",
     "text": [
      "/opt/conda/envs/python35-paddle120-env/lib/python3.7/site-packages/ipykernel_launcher.py:28: SettingWithCopyWarning: \n",
      "A value is trying to be set on a copy of a slice from a DataFrame.\n",
      "Try using .loc[row_indexer,col_indexer] = value instead\n",
      "\n",
      "See the caveats in the documentation: https://pandas.pydata.org/pandas-docs/stable/user_guide/indexing.html#returning-a-view-versus-a-copy\n"
     ]
    },
    {
     "name": "stdout",
     "output_type": "stream",
     "text": [
      "android_id\n",
      "apptype\n",
      "dev_height\n",
      "dev_width\n",
      "media_id\n",
      "ntt\n",
      "osv\n",
      "package\n",
      "dev_height2\n",
      "dev_width2\n",
      "media_id2\n",
      "package2\n",
      "apptype2\n",
      "android_id2\n",
      "fea1_hash2\n"
     ]
    }
   ],
   "source": [
    "#测试出dev_ppi会使效果下降，放弃使用这个特征\n",
    "f1 = features.drop(['dev_ppi'],axis=1)\n",
    "\n",
    "#挑选出影响最大的特征\n",
    "selected_c = f1.columns\n",
    "def find_key_f(train,selected):\n",
    "    temp0 = train[train['label']==0]\n",
    "    temp = pd.DataFrame(columns=[0,1])\n",
    "    temp[0] = temp0[selected].value_counts()/len(temp0) *100\n",
    "    temp1 = train[train['label']==1]\n",
    "    temp[1] = temp1[selected].value_counts()/len(temp0) *100\n",
    "    temp[2] = temp[1]/temp[0]\n",
    "    result = temp[temp[2]>7].sort_values(2,ascending = False).index\n",
    "    return result\n",
    "\n",
    "kf = {}\n",
    "for selected in selected_c:\n",
    "    kf[selected] = find_key_f(train,selected)\n",
    "\n",
    "#挑选出影响最大的特征值\n",
    "def ff(x,selected):\n",
    "    if x in kf[selected]:\n",
    "        return 1\n",
    "    else:\n",
    "        return 0\n",
    "\n",
    "for selected in selected_c:\n",
    "    if len(kf[selected])>0:\n",
    "        features[selected+'1'] = features[selected].apply(ff,args = (selected,))\n",
    "        test_fea[selected+'1'] = test_fea[selected].apply(ff,args = (selected,))\n",
    "        print(selected)\n",
    "\n"
   ]
  },
  {
   "cell_type": "code",
   "execution_count": 11,
   "metadata": {
    "collapsed": false
   },
   "outputs": [],
   "source": [
    "#五折交叉验证\n",
    "from sklearn.model_selection import  StratifiedKFold,KFold\n",
    "from sklearn.metrics import accuracy_score\n",
    "def ensemble(clf, train_x, train_y, test, cate_features):\n",
    "    prob = [] \n",
    "    mean_acc = 0 \n",
    "    sk = StratifiedKFold(n_splits=5,shuffle=True,random_state=2021)\n",
    "    for k, (train_i, val_i) in enumerate(sk.split(train_x,train_y)):\n",
    "        train_x_real = train_x.iloc[train_i]\n",
    "        train_y_real = train_y.iloc[train_i]\n",
    "        val_x = train_x.iloc[val_i]\n",
    "        val_y = train_y.iloc[val_i]\n",
    "        clf = clf.fit(train_x_real,train_y_real)\n",
    "        val_y_pred = clf.predict(val_x)\n",
    "        acc_val = accuracy_score(val_y,val_y_pred)\n",
    "        print(\"第{}个子模型 acc={}\".format(k+1,acc_val))\n",
    "        mean_acc += acc_val/5\n",
    "        test_y_pred = clf.predict_proba(test)[:-1]\n",
    "        prob.append(test_y_pred)\n",
    "    print(mean_acc)\n",
    "    mean_prob = sum(prob) / 5\n",
    "    return mean_prob"
   ]
  },
  {
   "cell_type": "code",
   "execution_count": 12,
   "metadata": {
    "collapsed": false
   },
   "outputs": [
    {
     "name": "stderr",
     "output_type": "stream",
     "text": [
      "/opt/conda/envs/python35-paddle120-env/lib/python3.7/site-packages/xgboost/sklearn.py:888: UserWarning: The use of label encoder in XGBClassifier is deprecated and will be removed in a future release. To remove this warning, do the following: 1) Pass option use_label_encoder=False when constructing XGBClassifier object; and 2) Encode your labels (y) as integers starting with 0, i.e. 0, 1, 2, ..., [num_class - 1].\n",
      "  warnings.warn(label_encoder_deprecation_msg, UserWarning)\n"
     ]
    },
    {
     "name": "stdout",
     "output_type": "stream",
     "text": [
      "[17:08:53] WARNING: ../src/learner.cc:541: \n",
      "Parameters: { min_child_samples } might not be used.\n",
      "\n",
      "  This may not be accurate due to some parameters are only used in language bindings but\n",
      "  passed down to XGBoost core.  Or some parameters are not used but slip through this\n",
      "  verification. Please open an issue if you find above cases.\n",
      "\n",
      "\n",
      "第1个子模型 acc=0.89272\n",
      "[17:13:14] WARNING: ../src/learner.cc:541: \n",
      "Parameters: { min_child_samples } might not be used.\n",
      "\n",
      "  This may not be accurate due to some parameters are only used in language bindings but\n",
      "  passed down to XGBoost core.  Or some parameters are not used but slip through this\n",
      "  verification. Please open an issue if you find above cases.\n",
      "\n",
      "\n",
      "第2个子模型 acc=0.8921\n",
      "[17:17:36] WARNING: ../src/learner.cc:541: \n",
      "Parameters: { min_child_samples } might not be used.\n",
      "\n",
      "  This may not be accurate due to some parameters are only used in language bindings but\n",
      "  passed down to XGBoost core.  Or some parameters are not used but slip through this\n",
      "  verification. Please open an issue if you find above cases.\n",
      "\n",
      "\n",
      "第3个子模型 acc=0.89223\n",
      "[17:21:54] WARNING: ../src/learner.cc:541: \n",
      "Parameters: { min_child_samples } might not be used.\n",
      "\n",
      "  This may not be accurate due to some parameters are only used in language bindings but\n",
      "  passed down to XGBoost core.  Or some parameters are not used but slip through this\n",
      "  verification. Please open an issue if you find above cases.\n",
      "\n",
      "\n",
      "第4个子模型 acc=0.89204\n",
      "[17:26:09] WARNING: ../src/learner.cc:541: \n",
      "Parameters: { min_child_samples } might not be used.\n",
      "\n",
      "  This may not be accurate due to some parameters are only used in language bindings but\n",
      "  passed down to XGBoost core.  Or some parameters are not used but slip through this\n",
      "  verification. Please open an issue if you find above cases.\n",
      "\n",
      "\n",
      "第5个子模型 acc=0.893\n",
      "0.8924179999999999\n"
     ]
    },
    {
     "data": {
      "text/plain": [
       "array([[0.93963397, 0.06036603],\n",
       "       [0.28671676, 0.71328324],\n",
       "       [0.9747782 , 0.02522179],\n",
       "       ...,\n",
       "       [0.04511253, 0.9548875 ],\n",
       "       [0.07228599, 0.927714  ],\n",
       "       [0.03320142, 0.9667986 ]], dtype=float32)"
      ]
     },
     "execution_count": 12,
     "metadata": {},
     "output_type": "execute_result"
    }
   ],
   "source": [
    "#XGB调参\r\n",
    "import xgboost as xgb\r\n",
    "clf = xgb.XGBClassifier(\r\n",
    "            max_depth=13, learning_rate=0.005, n_estimators=2300, \r\n",
    "            objective='binary:logistic', tree_method='gpu_hist', \r\n",
    "            subsample=0.95, colsample_bytree=0.4, \r\n",
    "            min_child_samples=3, eval_metric='auc', reg_lambda=0.5,\r\n",
    "        )\r\n",
    "ensemble(clf, features, labels, test_fea, cate_features)"
   ]
  },
  {
   "cell_type": "code",
   "execution_count": 13,
   "metadata": {
    "collapsed": false
   },
   "outputs": [],
   "source": [
    "#预测结果\r\n",
    "a = pd.DataFrame(test['sid'])\r\n",
    "a['label']= clf.predict(test_fea)\r\n",
    "a.to_csv('89.252.csv',index = False)"
   ]
  }
 ],
 "metadata": {
  "kernelspec": {
   "display_name": "PaddlePaddle 2.0.0b0 (Python 3.5)",
   "language": "python",
   "name": "py35-paddle1.2.0"
  },
  "language_info": {
   "codemirror_mode": {
    "name": "ipython",
    "version": 3
   },
   "file_extension": ".py",
   "mimetype": "text/x-python",
   "name": "python",
   "nbconvert_exporter": "python",
   "pygments_lexer": "ipython3",
   "version": "3.7.4"
  }
 },
 "nbformat": 4,
 "nbformat_minor": 1
}
